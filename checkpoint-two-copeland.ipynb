{
    "cells": [
        {
            "attachments": {},
            "cell_type": "markdown",
            "metadata": {
                "azdata_cell_guid": "151601c9-ca7a-412e-af80-c62a87e0837e"
            },
            "source": [
                "# Checkpoint Two: Exploratory Data Analysis\n",
                "\n",
                "Now that your chosen dataset is approved, it is time to start working on your analysis. Use this notebook to perform your EDA and make notes where directed to as you work.\n",
                "\n",
                "## Getting Started\n",
                "\n",
                "Since we have not provided your dataset for you, you will need to load the necessary files in this repository. Make sure to include a link back to the original dataset here as well.\n",
                "\n",
                "My dataset: https://www.kaggle.com/datasets/tunguz/200000-jeopardy-questions\n",
                "\n",
                "Your first task in EDA is to import necessary libraries and create a dataframe(s). Make note in the form of code comments of what your thought process is as you work on this setup task."
            ]
        },
        {
            "cell_type": "code",
            "execution_count": 119,
            "metadata": {
                "azdata_cell_guid": "7b503e37-6df5-4433-acfb-678b1346db14"
            },
            "outputs": [],
            "source": [
                "# import necessary libraries\n",
                "import pandas as pd \n",
                "import matplotlib.pyplot as plt\n",
                "import numpy as np\n",
                "\n",
                "# created dataframe with my csv file\n",
                "jeopardy_df = pd.read_csv(\"JEOPARDY_CSV.csv\")"
            ]
        },
        {
            "attachments": {},
            "cell_type": "markdown",
            "metadata": {
                "azdata_cell_guid": "129ce836-524b-4ea8-b394-a959f9308d6a"
            },
            "source": [
                "## Get to Know the Numbers\n",
                "\n",
                "Now that you have everything setup, put any code that you use to get to know the dataframe and its rows and columns better in the cell below. You can use whatever techniques you like, except for visualizations. You will put those in a separate section.\n",
                "\n",
                "When working on your code, make sure to leave comments so that your mentors can understand your thought process."
            ]
        },
        {
            "cell_type": "code",
            "execution_count": 120,
            "metadata": {
                "azdata_cell_guid": "0ca2d318-f6e8-43ef-a33e-5304d24d928d",
                "tags": []
            },
            "outputs": [
                {
                    "name": "stdout",
                    "output_type": "stream",
                    "text": [
                        "<class 'pandas.core.frame.DataFrame'>\n",
                        "RangeIndex: 216930 entries, 0 to 216929\n",
                        "Data columns (total 7 columns):\n",
                        " #   Column       Non-Null Count   Dtype \n",
                        "---  ------       --------------   ----- \n",
                        " 0   Show Number  216930 non-null  int64 \n",
                        " 1    Air Date    216930 non-null  object\n",
                        " 2    Round       216930 non-null  object\n",
                        " 3    Category    216930 non-null  object\n",
                        " 4    Value       213296 non-null  object\n",
                        " 5    Question    216930 non-null  object\n",
                        " 6    Answer      216927 non-null  object\n",
                        "dtypes: int64(1), object(6)\n",
                        "memory usage: 11.6+ MB\n"
                    ]
                }
            ],
            "source": [
                "# look at the dataframe data to see the column names and their data types\n",
                "jeopardy_df.info()"
            ]
        },
        {
            "cell_type": "code",
            "execution_count": 121,
            "metadata": {},
            "outputs": [
                {
                    "data": {
                        "text/html": [
                            "<div>\n",
                            "<style scoped>\n",
                            "    .dataframe tbody tr th:only-of-type {\n",
                            "        vertical-align: middle;\n",
                            "    }\n",
                            "\n",
                            "    .dataframe tbody tr th {\n",
                            "        vertical-align: top;\n",
                            "    }\n",
                            "\n",
                            "    .dataframe thead th {\n",
                            "        text-align: right;\n",
                            "    }\n",
                            "</style>\n",
                            "<table border=\"1\" class=\"dataframe\">\n",
                            "  <thead>\n",
                            "    <tr style=\"text-align: right;\">\n",
                            "      <th></th>\n",
                            "      <th>Show Number</th>\n",
                            "      <th>Air Date</th>\n",
                            "      <th>Round</th>\n",
                            "      <th>Category</th>\n",
                            "      <th>Value</th>\n",
                            "      <th>Question</th>\n",
                            "      <th>Answer</th>\n",
                            "    </tr>\n",
                            "  </thead>\n",
                            "  <tbody>\n",
                            "    <tr>\n",
                            "      <th>0</th>\n",
                            "      <td>4680</td>\n",
                            "      <td>2004-12-31</td>\n",
                            "      <td>Jeopardy!</td>\n",
                            "      <td>HISTORY</td>\n",
                            "      <td>$200</td>\n",
                            "      <td>For the last 8 years of his life, Galileo was ...</td>\n",
                            "      <td>Copernicus</td>\n",
                            "    </tr>\n",
                            "    <tr>\n",
                            "      <th>1</th>\n",
                            "      <td>4680</td>\n",
                            "      <td>2004-12-31</td>\n",
                            "      <td>Jeopardy!</td>\n",
                            "      <td>ESPN's TOP 10 ALL-TIME ATHLETES</td>\n",
                            "      <td>$200</td>\n",
                            "      <td>No. 2: 1912 Olympian; football star at Carlisl...</td>\n",
                            "      <td>Jim Thorpe</td>\n",
                            "    </tr>\n",
                            "    <tr>\n",
                            "      <th>2</th>\n",
                            "      <td>4680</td>\n",
                            "      <td>2004-12-31</td>\n",
                            "      <td>Jeopardy!</td>\n",
                            "      <td>EVERYBODY TALKS ABOUT IT...</td>\n",
                            "      <td>$200</td>\n",
                            "      <td>The city of Yuma in this state has a record av...</td>\n",
                            "      <td>Arizona</td>\n",
                            "    </tr>\n",
                            "    <tr>\n",
                            "      <th>3</th>\n",
                            "      <td>4680</td>\n",
                            "      <td>2004-12-31</td>\n",
                            "      <td>Jeopardy!</td>\n",
                            "      <td>THE COMPANY LINE</td>\n",
                            "      <td>$200</td>\n",
                            "      <td>In 1963, live on \"The Art Linkletter Show\", th...</td>\n",
                            "      <td>McDonald's</td>\n",
                            "    </tr>\n",
                            "    <tr>\n",
                            "      <th>4</th>\n",
                            "      <td>4680</td>\n",
                            "      <td>2004-12-31</td>\n",
                            "      <td>Jeopardy!</td>\n",
                            "      <td>EPITAPHS &amp; TRIBUTES</td>\n",
                            "      <td>$200</td>\n",
                            "      <td>Signer of the Dec. of Indep., framer of the Co...</td>\n",
                            "      <td>John Adams</td>\n",
                            "    </tr>\n",
                            "    <tr>\n",
                            "      <th>5</th>\n",
                            "      <td>4680</td>\n",
                            "      <td>2004-12-31</td>\n",
                            "      <td>Jeopardy!</td>\n",
                            "      <td>3-LETTER WORDS</td>\n",
                            "      <td>$200</td>\n",
                            "      <td>In the title of an Aesop fable, this insect sh...</td>\n",
                            "      <td>the ant</td>\n",
                            "    </tr>\n",
                            "    <tr>\n",
                            "      <th>6</th>\n",
                            "      <td>4680</td>\n",
                            "      <td>2004-12-31</td>\n",
                            "      <td>Jeopardy!</td>\n",
                            "      <td>HISTORY</td>\n",
                            "      <td>$400</td>\n",
                            "      <td>Built in 312 B.C. to link Rome &amp; the South of ...</td>\n",
                            "      <td>the Appian Way</td>\n",
                            "    </tr>\n",
                            "    <tr>\n",
                            "      <th>7</th>\n",
                            "      <td>4680</td>\n",
                            "      <td>2004-12-31</td>\n",
                            "      <td>Jeopardy!</td>\n",
                            "      <td>ESPN's TOP 10 ALL-TIME ATHLETES</td>\n",
                            "      <td>$400</td>\n",
                            "      <td>No. 8: 30 steals for the Birmingham Barons; 2,...</td>\n",
                            "      <td>Michael Jordan</td>\n",
                            "    </tr>\n",
                            "    <tr>\n",
                            "      <th>8</th>\n",
                            "      <td>4680</td>\n",
                            "      <td>2004-12-31</td>\n",
                            "      <td>Jeopardy!</td>\n",
                            "      <td>EVERYBODY TALKS ABOUT IT...</td>\n",
                            "      <td>$400</td>\n",
                            "      <td>In the winter of 1971-72, a record 1,122 inche...</td>\n",
                            "      <td>Washington</td>\n",
                            "    </tr>\n",
                            "    <tr>\n",
                            "      <th>9</th>\n",
                            "      <td>4680</td>\n",
                            "      <td>2004-12-31</td>\n",
                            "      <td>Jeopardy!</td>\n",
                            "      <td>THE COMPANY LINE</td>\n",
                            "      <td>$400</td>\n",
                            "      <td>This housewares store was named for the packag...</td>\n",
                            "      <td>Crate &amp; Barrel</td>\n",
                            "    </tr>\n",
                            "  </tbody>\n",
                            "</table>\n",
                            "</div>"
                        ],
                        "text/plain": [
                            "   Show Number    Air Date      Round                         Category  Value  \\\n",
                            "0         4680  2004-12-31  Jeopardy!                          HISTORY   $200   \n",
                            "1         4680  2004-12-31  Jeopardy!  ESPN's TOP 10 ALL-TIME ATHLETES   $200   \n",
                            "2         4680  2004-12-31  Jeopardy!      EVERYBODY TALKS ABOUT IT...   $200   \n",
                            "3         4680  2004-12-31  Jeopardy!                 THE COMPANY LINE   $200   \n",
                            "4         4680  2004-12-31  Jeopardy!              EPITAPHS & TRIBUTES   $200   \n",
                            "5         4680  2004-12-31  Jeopardy!                   3-LETTER WORDS   $200   \n",
                            "6         4680  2004-12-31  Jeopardy!                          HISTORY   $400   \n",
                            "7         4680  2004-12-31  Jeopardy!  ESPN's TOP 10 ALL-TIME ATHLETES   $400   \n",
                            "8         4680  2004-12-31  Jeopardy!      EVERYBODY TALKS ABOUT IT...   $400   \n",
                            "9         4680  2004-12-31  Jeopardy!                 THE COMPANY LINE   $400   \n",
                            "\n",
                            "                                            Question          Answer  \n",
                            "0  For the last 8 years of his life, Galileo was ...      Copernicus  \n",
                            "1  No. 2: 1912 Olympian; football star at Carlisl...      Jim Thorpe  \n",
                            "2  The city of Yuma in this state has a record av...         Arizona  \n",
                            "3  In 1963, live on \"The Art Linkletter Show\", th...      McDonald's  \n",
                            "4  Signer of the Dec. of Indep., framer of the Co...      John Adams  \n",
                            "5  In the title of an Aesop fable, this insect sh...         the ant  \n",
                            "6  Built in 312 B.C. to link Rome & the South of ...  the Appian Way  \n",
                            "7  No. 8: 30 steals for the Birmingham Barons; 2,...  Michael Jordan  \n",
                            "8  In the winter of 1971-72, a record 1,122 inche...      Washington  \n",
                            "9  This housewares store was named for the packag...  Crate & Barrel  "
                        ]
                    },
                    "execution_count": 121,
                    "metadata": {},
                    "output_type": "execute_result"
                }
            ],
            "source": [
                "# show the first 10 rows\n",
                "jeopardy_df.head(10)\n",
                "\n",
                "# With info ran above and small peak into dataframe, what do the columns represent.\n",
                "# Show Number (int64) will have duplicates as the dataset is looking at the content of Jeopardy shows.\n",
                "# Air Date (object) is shown as Year-Month-Day. I may want to consider formatting it differently to possibly do arithmetic functions later on.\n",
                "# Round (object) refers to the round of the show. I can run another code to see what the possible rounds are.\n",
                "# Category (object) refers to the category of the questions. In Jeopardy, a large screen is shown with headers as the categories. Below the\n",
                "# categories are the next column (value).\n",
                "# Value (object) is the monetary amount of the question. As the value increases, the question difficultly should increase. I will likely clean up the values\n",
                "# to remove the $ and change the datatype to numerical data to run mathmathetical functions later on.\n",
                "# Question (object) is what is shown on the screen to the contestants. This data will likely have little cleaned as it is very messy. I could foresee possibly\n",
                "# looking for specific words in the question in future analysis.\n",
                "# Answer (object) is what the contestant should provide to receive value. I'd like to look at possible duplicates later on. "
            ]
        },
        {
            "cell_type": "code",
            "execution_count": 122,
            "metadata": {},
            "outputs": [
                {
                    "data": {
                        "text/plain": [
                            "(216930, 7)"
                        ]
                    },
                    "execution_count": 122,
                    "metadata": {},
                    "output_type": "execute_result"
                }
            ],
            "source": [
                "# Shape of dataframe\n",
                "jeopardy_df.shape\n",
                "\n",
                "# 7 columns with 216,930 rows"
            ]
        },
        {
            "cell_type": "code",
            "execution_count": 123,
            "metadata": {},
            "outputs": [
                {
                    "data": {
                        "text/plain": [
                            "Show Number       0\n",
                            " Air Date         0\n",
                            " Round            0\n",
                            " Category         0\n",
                            " Value         3634\n",
                            " Question         0\n",
                            " Answer           3\n",
                            "dtype: int64"
                        ]
                    },
                    "execution_count": 123,
                    "metadata": {},
                    "output_type": "execute_result"
                }
            ],
            "source": [
                "# Determine number of nulls\n",
                "jeopardy_df.isna().sum()\n",
                "\n",
                "# interesting to see their are nulls only present in value and answer. I wonder if the value could possibly be interpolated considering the consistency \n",
                "# values are applied in Jeopardy."
            ]
        },
        {
            "cell_type": "code",
            "execution_count": 124,
            "metadata": {},
            "outputs": [
                {
                    "data": {
                        "text/plain": [
                            "3640"
                        ]
                    },
                    "execution_count": 124,
                    "metadata": {},
                    "output_type": "execute_result"
                }
            ],
            "source": [
                "# Number of Shows in data set\n",
                "jeopardy_df['Show Number'].nunique()\n",
                " # 3,640 shows recorded in data set"
            ]
        },
        {
            "cell_type": "code",
            "execution_count": 125,
            "metadata": {},
            "outputs": [
                {
                    "data": {
                        "text/plain": [
                            "(       Show Number    Air Date             Round   Category   Value  \\\n",
                            " 80257         5283  2007-07-25  Double Jeopardy!  NUTRITION  $5,401   \n",
                            " \n",
                            "                                                 Question    Answer  \n",
                            " 80257  Tea, grape juice & blueberries are all rich in...  oxidants  ,\n",
                            "        Show Number    Air Date             Round           Category   Value  \\\n",
                            " 82222          736  1987-11-16  Double Jeopardy!  HISTORICAL DRAMAS  $1,183   \n",
                            " \n",
                            "                                                 Question  Answer  \n",
                            " 82222  193 years after the events it portrayed, this ...    1776  )"
                        ]
                    },
                    "execution_count": 125,
                    "metadata": {},
                    "output_type": "execute_result"
                }
            ],
            "source": [
                "# Determine possible options in Round \n",
                "# I first tried jeopardy_df['Round'],unique() and got an error. I didn't understand why so I ran:\n",
                "jeopardy_df.columns\n",
                "# and noticed there was a space in front of ' Round'. The code to find out possible options in Round then worked with the space.\n",
                "jeopardy_df[' Round'].unique()\n",
                "# Round has 4 options including: Jeopardy!, Double Jeopardy!, Final Jeopardy!, and Tiebreaker\n",
                "\n",
                "# Determine possible options in Value\n",
                "jeopardy_df[' Value'].value_counts()\n",
                "# From my knowledge of jeopardy, the values for questions are multiples of 100. I can explore the values shown that are not multiples of 100. \n",
                "# If those values have few counts, they may relate to the questions called Daily Doubles in which the contestant sets the value of the question. \n",
                "# If they get the question correct, the value is added to their total. If they answer incorrectly, that value is deducted from their total. \n",
                "\n",
                "# Pull specified rows with the non-multiples of 100 to see if there is any indication of why their values are that way.\n",
                "find5401 = jeopardy_df[jeopardy_df[' Value'] == '$5,401']\n",
                "find1183 = jeopardy_df[jeopardy_df[' Value'] == '$1,183']\n",
                "find5401, find1183\n",
                "\n",
                "# It doesn't apepar that those values that are not multiples of 100 indicate why that is the case. I may consider excluding some of those rows in \n",
                "# certain analyses that are looking at values specifically. "
            ]
        },
        {
            "cell_type": "code",
            "execution_count": 126,
            "metadata": {},
            "outputs": [
                {
                    "data": {
                        "text/plain": [
                            " Category\n",
                            "BEFORE & AFTER      547\n",
                            "SCIENCE             519\n",
                            "LITERATURE          496\n",
                            "AMERICAN HISTORY    418\n",
                            "POTPOURRI           401\n",
                            "Name: count, dtype: int64"
                        ]
                    },
                    "execution_count": 126,
                    "metadata": {},
                    "output_type": "execute_result"
                }
            ],
            "source": [
                "# Determine how many times categories were used\n",
                "category_counts = jeopardy_df[' Category'].value_counts()\n",
                "\n",
                "# Categories used 20 or more times = 1,246\n",
                "category_counts[category_counts >= 20]\n",
                "\n",
                "# Categories used 50 or more times = 348\n",
                "category_counts[category_counts >= 50]\n",
                "\n",
                "# Categories used 100 or more times = 150\n",
                "category_counts[category_counts >= 100]\n",
                "\n",
                "# Categories repeated most are Before & After, Science, Literature, American History, Potpourri\n",
                "category_counts.head(5)"
            ]
        },
        {
            "attachments": {},
            "cell_type": "markdown",
            "metadata": {
                "azdata_cell_guid": "d45060f3-97bc-484a-9ef4-66145bbe9427"
            },
            "source": [
                "## Visualize\n",
                "\n",
                "Create any visualizations for your EDA here. Make note in the form of code comments of what your thought process is for your visualizations."
            ]
        },
        {
            "cell_type": "code",
            "execution_count": 127,
            "metadata": {
                "azdata_cell_guid": "f4565b03-759a-47a8-b58f-01b32a0b4b67"
            },
            "outputs": [
                {
                    "data": {
                        "text/plain": [
                            "Text(0.5, 1.0, 'Count of Questions by Round Type')"
                        ]
                    },
                    "execution_count": 127,
                    "metadata": {},
                    "output_type": "execute_result"
                },
                {
                    "data": {
                        "image/png": "[encoded data removed]",
                        "text/plain": [
                            "<Figure size 640x480 with 1 Axes>"
                        ]
                    },
                    "metadata": {},
                    "output_type": "display_data"
                }
            ],
            "source": [
                "# Composition of the Number of Questions by Round Type \n",
                "round_type = ['Jeopardy!', 'Double Jeopardy!', 'Final Jeopardy!', 'Tiebreaker']\n",
                "count_by_round = jeopardy_df.groupby(' Round')[' Question'].count()\n",
                "count_by_round\n",
                "plt.pie(count_by_round, labels=round_type, autopct='%1.1f%%')\n",
                "plt.title('Count of Questions by Round Type')"
            ]
        },
        {
            "cell_type": "code",
            "execution_count": 169,
            "metadata": {
                "azdata_cell_guid": "cd64bab1-db4c-4295-820d-c6464b653a3e"
            },
            "outputs": [
                {
                    "data": {
                        "text/plain": [
                            "array(['200', '400', '600', '800', '2,000', '1000', '1200', '1600',\n",
                            "       '2000', '3,200', '5,000', '100', '300', '500', '1,000', '1,500',\n",
                            "       '1,200', '4,800', '1,800', '1,100', '2,200', '3,400', '3,000',\n",
                            "       '4,000', '1,600', '6,800', '1,900', '3,100', '700', '1,400',\n",
                            "       '2,800', '8,000', '6,000', '2,400', '12,000', '3,800', '2,500',\n",
                            "       '6,200', '10,000', '7,000', '7,400', '1,300', '7,200', '2,600',\n",
                            "       '3,300', '5,400', '4,500', '2,100', '900', '3,600', '4,400',\n",
                            "       '3,500', '2,900', '3,900', '4,100', '4,600', '10,800', '2,300',\n",
                            "       '5,600', '8,200', '5,800', '7,500', '1,700', '9,000', '6,100',\n",
                            "       '4,700', '5,200', '4,200', '6,600', '3,700', '5,500', '14,000',\n",
                            "       '2,700', '6,400', '8,600', '6,300', '9,500', '8,800', '10,400',\n",
                            "       '7,600', '6,700', '5,100', '13,200', '4,300', '12,400', '7,800',\n",
                            "       '13,000', '11,600', '14,200', '8,400', '8,700', '11,000', '5,700',\n",
                            "       '18,000', '9,800', '9,200', '8,500', '13,800', '16,400', '11,200'],\n",
                            "      dtype=object)"
                        ]
                    },
                    "execution_count": 169,
                    "metadata": {},
                    "output_type": "execute_result"
                }
            ],
            "source": [
                "# # Top 5 Categories by Value\n",
                "# top_categories = ['Before & After', 'Science, Literature', 'American History', 'Potpourri']\n",
                "# jeopardy_top_categories = jeopardy_df[jeopardy_df[' Category'].isin(top_categories)]\n",
                "# top_categories_value_count = jeopardy_top_categories.groupby([' Category', ' Value'])\n",
                "# value1= \n",
                "# x_axis = np.arange(len(top_categories))\n",
                "# plt.bar(x_axis - 0.2, \n",
                "\n",
                "round_type = ['Jeopardy!', 'Double Jeopardy!', 'Final Jeopardy!', 'Tiebreaker']\n",
                "jeopardy_df[' Value'] = jeopardy_df[' Value'].str.replace('$', '')\n",
                "drop_value_nulls = jeopardy_df[' Value'].fillna('')\n",
                "values_multiples_100 = drop_value_nulls[drop_value_nulls.str.endswith('00')]\n",
                "values_multiples_100.unique()\n",
                "# filter_jeopardy = jeopardy_df[jeopardy_df[' Round'].isin(round_type)]\n",
                "# value_grouped = filter_jeopardy.groupby([' Round',' Value']).size().unstack(fill_value=0)\n",
                "# value_grouped.T.plot(kind='bar', figsize=(10,7), width=0.8)"
            ]
        },
        {
            "cell_type": "markdown",
            "metadata": {
                "azdata_cell_guid": "d4931c0c-2c09-4ee1-95d4-73dd08c2f0a6"
            },
            "source": [
                "## Summarize Your Results\n",
                "\n",
                "With your EDA complete, answer the following questions.\n",
                "\n",
                "1. Was there anything surprising about your dataset? I wasn't anticipating the values to include values that are not multiples of $100. I also wasn't anticipating the number of null values in the Value column.\n",
                "2. Do you have any concerns about your dataset? I may be limited in the type of analyses I can run with the question column considering its extremely varied data.\n",
                "3. Is there anything you want to make note of for the next phase of your analysis, which is cleaning data? Remove $ and commas in values column, possibly create multiple columns to break up the air date into month, day and year OR only include year, create consistency in answer elements (lowercase so that they are not case sensitive), change data types for value and air date column, remove any spaces before and after values in column names and data set."
            ]
        }
    ],
    "metadata": {
        "kernelspec": {
            "display_name": "Python 3",
            "language": "python",
            "name": "python3"
        },
        "language_info": {
            "codemirror_mode": {
                "name": "ipython",
                "version": 3
            },
            "file_extension": ".py",
            "mimetype": "text/x-python",
            "name": "python",
            "nbconvert_exporter": "python",
            "pygments_lexer": "ipython3",
            "version": "3.12.5"
        }
    },
    "nbformat": 4,
    "nbformat_minor": 2
}
